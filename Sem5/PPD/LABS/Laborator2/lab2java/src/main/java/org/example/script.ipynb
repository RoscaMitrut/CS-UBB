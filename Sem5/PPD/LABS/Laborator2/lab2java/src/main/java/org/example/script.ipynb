{
 "cells": [
  {
   "cell_type": "code",
   "execution_count": 14,
   "metadata": {},
   "outputs": [
    {
     "name": "stdout",
     "output_type": "stream",
     "text": [
      "432.371\n"
     ]
    }
   ],
   "source": [
    "import subprocess\n",
    "\n",
    "command = \"java Main.java\"\n",
    "\n",
    "outputs = []\n",
    "\n",
    "for i in range(10):\n",
    "    result = subprocess.run(command, shell=True, capture_output=True, text=True)\n",
    "    \n",
    "    outputs.append(result.stdout)\n",
    "\n",
    "sum = 0\n",
    "for el in outputs:\n",
    "    sum += float(el)\n",
    "\n",
    "print(sum/10)\n"
   ]
  }
 ],
 "metadata": {
  "kernelspec": {
   "display_name": "Python 3",
   "language": "python",
   "name": "python3"
  },
  "language_info": {
   "codemirror_mode": {
    "name": "ipython",
    "version": 3
   },
   "file_extension": ".py",
   "mimetype": "text/x-python",
   "name": "python",
   "nbconvert_exporter": "python",
   "pygments_lexer": "ipython3",
   "version": "3.12.4"
  }
 },
 "nbformat": 4,
 "nbformat_minor": 2
}
