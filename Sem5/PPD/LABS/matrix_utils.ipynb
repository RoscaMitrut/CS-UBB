{
 "cells": [
  {
   "cell_type": "code",
   "execution_count": 1,
   "metadata": {},
   "outputs": [],
   "source": [
    "import random"
   ]
  },
  {
   "cell_type": "code",
   "execution_count": 15,
   "metadata": {},
   "outputs": [],
   "source": [
    "def generate_matrix(n, m, filename=\"input.txt\"):\n",
    "\tmatrix = [[random.randint(1, 10) for j in range(m)] for i in range(n)]\n",
    "\n",
    "\twith open(filename, 'w') as file:\n",
    "\t\tfile.write(str(n)+\" \")\n",
    "\t\tfile.write(str(m)+\"\\n\")\n",
    "\t\tfor row in matrix:\n",
    "\t\t\tfile.write(' '.join(map(str, row)) + '\\n')\n",
    "  \n",
    "\tprint(f\"Matrix of size {n}x{m} saved to {filename}\")\n",
    " \n",
    "def generate_random_matrix(K):\n",
    "    return [[random.randint(1, 1000) for _ in range(K)] for _ in range(K)]\n"
   ]
  },
  {
   "cell_type": "code",
   "execution_count": 16,
   "metadata": {},
   "outputs": [
    {
     "name": "stdout",
     "output_type": "stream",
     "text": [
      "Matrix of size 1000x1000 saved to ./Project2/matrixA.txt\n",
      "Matrix of size 1000x1000 saved to ./Project2/matrixB.txt\n"
     ]
    }
   ],
   "source": [
    "N=100\n",
    "M=100\n",
    "\n",
    "generate_matrix(N, M, filename=f\"./Project2/matrixA.txt\")\n",
    "generate_matrix(N, M, filename=f\"./Project2/matrixB.txt\")\n",
    "        "
   ]
  },
  {
   "cell_type": "code",
   "execution_count": 19,
   "metadata": {},
   "outputs": [
    {
     "name": "stdout",
     "output_type": "stream",
     "text": [
      "Matrix product has been written to ./Project2/verify.txt\n"
     ]
    }
   ],
   "source": [
    "def read_matrix_from_file(filename):\n",
    "    with open(filename, 'r') as f:\n",
    "        # Read dimensions from the first line\n",
    "        rows, cols = map(int, f.readline().split())\n",
    "\n",
    "        # Read matrix elements as integers\n",
    "        matrix = []\n",
    "        for line in f:\n",
    "            row = list(map(int, line.split()))\n",
    "            if len(row) != cols:\n",
    "                raise ValueError(f\"In {filename}: Expected {cols} elements but got {len(row)}\")\n",
    "            matrix.append(row)\n",
    "\n",
    "        if len(matrix) != rows:\n",
    "            raise ValueError(f\"In {filename}: Expected {rows} rows but got {len(matrix)}\")\n",
    "\n",
    "    return matrix\n",
    "\n",
    "def matrix_multiply(matrix1, matrix2):\n",
    "    rows1 = len(matrix1)\n",
    "    cols1 = len(matrix1[0])\n",
    "    rows2 = len(matrix2)\n",
    "    cols2 = len(matrix2[0])\n",
    "\n",
    "    if cols1 != rows2:\n",
    "        raise ValueError(f\"Cannot multiply matrices: dimensions don't match ({rows1}x{cols1} and {rows2}x{cols2})\")\n",
    "\n",
    "    # Initialize the result matrix with zeros\n",
    "    result = [[0] * cols2 for _ in range(rows1)]\n",
    "\n",
    "    # Perform matrix multiplication\n",
    "    for i in range(rows1):\n",
    "        for j in range(cols2):\n",
    "            for k in range(cols1):\n",
    "                result[i][j] += matrix1[i][k] * matrix2[k][j]\n",
    "\n",
    "    return result\n",
    "\n",
    "def write_matrix(matrix, filename):\n",
    "    with open(filename, 'w') as f:\n",
    "        # Write dimensions\n",
    "        f.write(f\"{len(matrix)} {len(matrix[0])}\\n\")\n",
    "\n",
    "        # Write matrix elements\n",
    "        for row in matrix:\n",
    "            f.write(' '.join(map(str, row)) + '\\n')\n",
    "\n",
    "try:\n",
    "    # Read matrices from files\n",
    "    matrix1 = read_matrix_from_file('./Project2/matrixA.txt')\n",
    "    matrix2 = read_matrix_from_file('./Project2/matrixB.txt')\n",
    "\n",
    "    # Multiply matrices\n",
    "    result = matrix_multiply(matrix1, matrix2)\n",
    "\n",
    "    # Write result to file\n",
    "    output_file = \"./Project2/verify.txt\"\n",
    "    write_matrix(result, output_file)\n",
    "    print(f\"Matrix product has been written to {output_file}\")\n",
    "\n",
    "except FileNotFoundError as e:\n",
    "    print(f\"Error: Input file not found - {e}\")\n",
    "except ValueError as e:\n",
    "    print(f\"Error: {e}\")\n",
    "except Exception as e:\n",
    "    print(f\"An unexpected error occurred: {e}\")\n"
   ]
  },
  {
   "cell_type": "code",
   "execution_count": 22,
   "metadata": {},
   "outputs": [
    {
     "name": "stdout",
     "output_type": "stream",
     "text": [
      "Files are identical.\n"
     ]
    },
    {
     "data": {
      "text/plain": [
       "True"
      ]
     },
     "execution_count": 22,
     "metadata": {},
     "output_type": "execute_result"
    }
   ],
   "source": [
    "def compare_matrix_files(file1, file2):\n",
    "    try:\n",
    "        with open(file1, 'r') as f1, open(file2, 'r') as f2:\n",
    "            # Read and compare the files line by line\n",
    "            for line_num, (line1, line2) in enumerate(zip(f1, f2), start=1):\n",
    "                if line1.strip() != line2.strip():\n",
    "                    print(f\"Files differ at line {line_num}:\")\n",
    "                    print(f\"{file1}: {line1.strip()}\")\n",
    "                    print(f\"{file2}: {line2.strip()}\")\n",
    "                    return False\n",
    "\n",
    "            # Check if one file has additional lines\n",
    "            extra_line1 = f1.readline().strip()\n",
    "            extra_line2 = f2.readline().strip()\n",
    "\n",
    "            if extra_line1 or extra_line2:\n",
    "                print(\"Files differ in number of lines.\")\n",
    "                return False\n",
    "\n",
    "    except FileNotFoundError as e:\n",
    "        print(f\"Error: File not found - {e}\")\n",
    "        return False\n",
    "    except Exception as e:\n",
    "        print(f\"An unexpected error occurred: {e}\")\n",
    "        return False\n",
    "\n",
    "    print(\"Files are identical.\")\n",
    "    return True\n",
    "\n",
    "# Example usage:\n",
    "file1 = \"./Project2/verify.txt\"\n",
    "file2 = \"./Project2/output.txt\"\n",
    "compare_matrix_files(file1, file2)\n"
   ]
  }
 ],
 "metadata": {
  "kernelspec": {
   "display_name": "Python 3",
   "language": "python",
   "name": "python3"
  },
  "language_info": {
   "codemirror_mode": {
    "name": "ipython",
    "version": 3
   },
   "file_extension": ".py",
   "mimetype": "text/x-python",
   "name": "python",
   "nbconvert_exporter": "python",
   "pygments_lexer": "ipython3",
   "version": "3.12.4"
  }
 },
 "nbformat": 4,
 "nbformat_minor": 2
}
