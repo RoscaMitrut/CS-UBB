{
 "cells": [
  {
   "cell_type": "code",
   "execution_count": 1,
   "metadata": {},
   "outputs": [],
   "source": [
    "from azure.cognitiveservices.vision.computervision import ComputerVisionClient\n",
    "from azure.cognitiveservices.vision.computervision.models import OperationStatusCodes\n",
    "from azure.cognitiveservices.vision.computervision.models import VisualFeatureTypes\n",
    "#from azure.ai.vision.imageanalysis.models import VisualFeatures\n",
    "\n",
    "from msrest.authentication import CognitiveServicesCredentials\n",
    "from array import array\n",
    "import os\n",
    "from PIL import Image\n",
    "import sys\n",
    "import time\n",
    "import matplotlib.pyplot as plt\n",
    "from skimage import io\n",
    "import numpy as np"
   ]
  },
  {
   "cell_type": "code",
   "execution_count": 2,
   "metadata": {},
   "outputs": [],
   "source": [
    "subscription_key = os.environ[\"VISION_KEY\"]\n",
    "endpoint = os.environ[\"VISION_ENDPOINT\"]\n",
    "computervision_client = ComputerVisionClient(endpoint, CognitiveServicesCredentials(subscription_key))"
   ]
  },
  {
   "cell_type": "code",
   "execution_count": 3,
   "metadata": {},
   "outputs": [
    {
     "name": "stdout",
     "output_type": "stream",
     "text": [
      "['bike02.jpg', 'bike03.jpg', 'bike04.jpg', 'bike05.jpg', 'bike06.jpg', 'bike07.jpg', 'bike08.jpg', 'bike09.jpg', 'bike1.jpg', 'bike10.jpg', 'binClass.png']\n",
      "['animals.png', 'cm.png', 'IoU.png', 'IoU2.png', 'objectDetection.png', 'people.jpg', 'PR.png', 'traffic01.jpg', 'traffic02.jpg', 'traffic03.jpg', 'traffic04.jpg', 'traffic05.jpg', 'traffic06.jpg', 'traffic07.jpg', 'traffic08.jpg', 'traffic09.jpg', 'traffic10.jpg']\n"
     ]
    }
   ],
   "source": [
    "fisiere_cu_bicle = []\n",
    "fisiere_fara_bicle = []\n",
    "\n",
    "for filename in os.scandir(\"images\"):\n",
    "    if filename.is_file():\n",
    "        switch=False\n",
    "\n",
    "        img = open(filename.path, \"rb\")\n",
    "        result = computervision_client.analyze_image_in_stream(img, visual_features=[VisualFeatureTypes.tags, VisualFeatureTypes.objects])\n",
    "\n",
    "        for tag in result.tags:\n",
    "            if(tag.name == \"bike\") or (tag.name == \"bicycle\"):\n",
    "                switch=True\n",
    "\n",
    "        for ob in result.objects:\n",
    "            if(ob.object_property == \"bicycle\") or (ob.object_property == \"bike\"):\n",
    "                switch=True\n",
    "\n",
    "        if switch:\n",
    "            fisiere_cu_bicle.append(filename.name)\n",
    "        else:\n",
    "            fisiere_fara_bicle.append(filename.name)\n",
    "\n",
    "\n",
    "print(fisiere_cu_bicle)\n",
    "print(fisiere_fara_bicle)\n"
   ]
  },
  {
   "cell_type": "code",
   "execution_count": 4,
   "metadata": {},
   "outputs": [
    {
     "name": "stdout",
     "output_type": "stream",
     "text": [
      "0.8928571428571429\n"
     ]
    }
   ],
   "source": [
    "fisiere_actuale_cu_bicle = ['bike02.jpg', 'bike03.jpg', 'bike04.jpg', 'bike05.jpg', 'bike06.jpg', 'bike07.jpg', 'bike08.jpg', 'bike09.jpg', 'bike1.jpg', 'bike10.jpg','binClass.png','traffic05.jpg','traffic06.jpg','traffic08.jpg']\n",
    "fisiere_actuale_fara_bicle = ['animals.png', 'cm.png', 'IoU.png', 'IoU2.png', 'objectDetection.png', 'people.jpg', 'PR.png', 'traffic01.jpg', 'traffic02.jpg', 'traffic03.jpg', 'traffic04.jpg','traffic07.jpg', 'traffic09.jpg', 'traffic10.jpg']\n",
    "\n",
    "TP = len(list(set(fisiere_actuale_cu_bicle).intersection(fisiere_cu_bicle)))\n",
    "TN = len(list(set(fisiere_actuale_fara_bicle).intersection(fisiere_fara_bicle)))\n",
    "FP = len(list(set(fisiere_actuale_fara_bicle).intersection(fisiere_cu_bicle)))\n",
    "FN = len(list(set(fisiere_actuale_cu_bicle).intersection(fisiere_fara_bicle)))\n",
    "\n",
    "acc = (TP+TN)/(TP+TN+FP+FN)\n",
    "\n",
    "print(acc)"
   ]
  }
 ],
 "metadata": {
  "kernelspec": {
   "display_name": "Python 3",
   "language": "python",
   "name": "python3"
  },
  "language_info": {
   "codemirror_mode": {
    "name": "ipython",
    "version": 3
   },
   "file_extension": ".py",
   "mimetype": "text/x-python",
   "name": "python",
   "nbconvert_exporter": "python",
   "pygments_lexer": "ipython3",
   "version": "3.12.0"
  }
 },
 "nbformat": 4,
 "nbformat_minor": 2
}
