{
 "cells": [
  {
   "cell_type": "code",
   "execution_count": 1,
   "metadata": {},
   "outputs": [
    {
     "data": {
      "image/jpeg": "[encoded data removed]",
      "image/png": "[encoded data removed]",
      "text/plain": [
       "<PIL.PngImagePlugin.PngImageFile image mode=RGB size=32x32>"
      ]
     },
     "metadata": {},
     "output_type": "display_data"
    }
   ],
   "source": [
    "import matplotlib.pyplot as plt\n",
    "from PIL import Image,ImageFilter,ImageOps\n",
    "import os, os.path\n",
    "\n",
    "imgs = []\n",
    "valid_images = [\".png\"]\n",
    "path = \"images/airplane\"\n",
    "\n",
    "for f in os.listdir(path):\n",
    "    ext = os.path.splitext(f)[1]\n",
    "    if ext.lower() not in valid_images:\n",
    "        continue\n",
    "    imgs.append(Image.open(os.path.join(path,f)))\n",
    "\n",
    "display(imgs[0])"
   ]
  },
  {
   "cell_type": "code",
   "execution_count": 2,
   "metadata": {},
   "outputs": [],
   "source": [
    "def sepia(img,i):\n",
    "    width, height = img.size\n",
    "\n",
    "    pixels = img.load() # create the pixel map\n",
    "\n",
    "    for py in range(height):\n",
    "        for px in range(width):\n",
    "            r, g, b = img.getpixel((px, py))\n",
    "\n",
    "            tr = int(0.393 * r + 0.769 * g + 0.189 * b)\n",
    "            tg = int(0.349 * r + 0.686 * g + 0.168 * b)\n",
    "            tb = int(0.272 * r + 0.534 * g + 0.131 * b)\n",
    "\n",
    "            if tr > 255:\n",
    "                tr = 255\n",
    "\n",
    "            if tg > 255:\n",
    "                tg = 255\n",
    "\n",
    "            if tb > 255:\n",
    "                tb = 255\n",
    "\n",
    "            pixels[px, py] = (tr,tg,tb)\n",
    "    i += 1\n",
    "    match i:\n",
    "        case _ if i < 10:\n",
    "            j=f\"000{i}\"\n",
    "        case _ if i < 100:\n",
    "            j=f\"00{i}\"\n",
    "        case _ if i <1000:\n",
    "            j=f\"0{i}\"\n",
    "        case _ if i <10000:\n",
    "            j=f\"{i}\"\n",
    "    img.save(f\"images/airplane_sepia/{j}s.png\")"
   ]
  },
  {
   "cell_type": "code",
   "execution_count": 3,
   "metadata": {},
   "outputs": [],
   "source": [
    "for i in range(len(imgs)):\n",
    "    sepia(imgs[i],i)"
   ]
  }
 ],
 "metadata": {
  "kernelspec": {
   "display_name": "Python 3",
   "language": "python",
   "name": "python3"
  },
  "language_info": {
   "codemirror_mode": {
    "name": "ipython",
    "version": 3
   },
   "file_extension": ".py",
   "mimetype": "text/x-python",
   "name": "python",
   "nbconvert_exporter": "python",
   "pygments_lexer": "ipython3",
   "version": "3.12.0"
  }
 },
 "nbformat": 4,
 "nbformat_minor": 2
}
