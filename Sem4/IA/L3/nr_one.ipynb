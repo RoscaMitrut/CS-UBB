{
 "cells": [
  {
   "cell_type": "code",
   "execution_count": 2,
   "metadata": {},
   "outputs": [],
   "source": [
    "#%pip install azure-cognitiveservices-vision-computervision\n",
    "#%pip install pillow\n",
    "#%pip install levenshtein\n",
    "#%pip install jaro-winkler\n",
    "#%pip install opencv-python\n",
    "#%pip install numpy\n",
    "#%pip install matplotlib"
   ]
  },
  {
   "cell_type": "code",
   "execution_count": 3,
   "metadata": {},
   "outputs": [],
   "source": [
    "from azure.cognitiveservices.vision.computervision import ComputerVisionClient\n",
    "from azure.cognitiveservices.vision.computervision.models import OperationStatusCodes\n",
    "from azure.cognitiveservices.vision.computervision.models import VisualFeatureTypes\n",
    "from msrest.authentication import CognitiveServicesCredentials\n",
    "from array import array\n",
    "import os\n",
    "from PIL import Image\n",
    "import sys\n",
    "import time\n",
    "import cv2\n",
    "import numpy as np\n",
    "import Levenshtein\n",
    "from scipy.spatial import distance\n",
    "import jaro"
   ]
  },
  {
   "cell_type": "code",
   "execution_count": 4,
   "metadata": {},
   "outputs": [],
   "source": [
    "subscription_key = os.environ[\"VISION_KEY\"]\n",
    "endpoint = os.environ[\"VISION_ENDPOINT\"]\n",
    "computervision_client = ComputerVisionClient(endpoint, CognitiveServicesCredentials(subscription_key))"
   ]
  },
  {
   "cell_type": "code",
   "execution_count": 5,
   "metadata": {},
   "outputs": [
    {
     "data": {
      "text/plain": [
       "True"
      ]
     },
     "execution_count": 5,
     "metadata": {},
     "output_type": "execute_result"
    }
   ],
   "source": [
    "img = cv2.imread(\"test2.jpeg\")\n",
    "\n",
    "img = cv2.cvtColor(img,cv2.COLOR_BGR2GRAY)\n",
    "\n",
    "img = cv2.GaussianBlur(img, (3,3), 100)\n",
    "\n",
    "img = cv2.adaptiveThreshold(img,255,cv2.ADAPTIVE_THRESH_GAUSSIAN_C, cv2.THRESH_BINARY_INV,819,33)\n",
    "\n",
    "img = 255 - img \n",
    "\n",
    "#kernel = np.ones((3,3),np.uint8)\n",
    "#img = cv2.dilate(img, kernel, iterations=0)\n",
    "\n",
    "#img = cv2.resize(img,(1000,1000))\n",
    "#cv2.imshow(\"img\",img)\n",
    "#cv2.waitKey()\n",
    "\n",
    "cv2.imwrite(\"imagine_procesata.jpg\", img)"
   ]
  },
  {
   "cell_type": "code",
   "execution_count": 6,
   "metadata": {},
   "outputs": [
    {
     "name": "stdout",
     "output_type": "stream",
     "text": [
      "succes in resolvarea\n",
      "TEMELOR la\n",
      "LABORA toarele de\n",
      "Inteligentà Artificialà!\n"
     ]
    }
   ],
   "source": [
    "# img = open(\"test1.png\", \"rb\")\n",
    "img = open(\"imagine_procesata.jpg\", \"rb\")\n",
    "\n",
    "read_response = computervision_client.read_in_stream(\n",
    "    image=img,\n",
    "    mode=\"Printed\",\n",
    "    raw=True\n",
    ")\n",
    "#print(read_response.as_dict())\n",
    "\n",
    "operation_id = read_response.headers['Operation-Location'].split('/')[-1]\n",
    "while True:\n",
    "    read_result = computervision_client.get_read_result(operation_id)\n",
    "    if read_result.status not in ['notStarted', 'running']:\n",
    "        break\n",
    "    time.sleep(1)\n",
    "\n",
    "# Print the detected text, line by line\n",
    "result = []\n",
    "cutii = []\n",
    "if read_result.status == OperationStatusCodes.succeeded:\n",
    "    for text_result in read_result.analyze_result.read_results:\n",
    "        for line in text_result.lines:\n",
    "            print(line.text)\n",
    "            result.append(line.text)\n",
    "            cutii.append(line.bounding_box)"
   ]
  },
  {
   "cell_type": "code",
   "execution_count": 7,
   "metadata": {},
   "outputs": [
    {
     "name": "stdout",
     "output_type": "stream",
     "text": [
      "(Levenshtein) Calitate nivel cuvant: 0.3157894736842105\n",
      "(Levenshtein) Calitate nivel caracter: 0.9230769230769231 \n",
      "\n",
      "(JaroWinkler) Calitate nivel cuvant: 0.7288214254880921\n",
      "(JaroWinkler) Calitate nivel caracter: 0.820940170940171 \n",
      "\n"
     ]
    }
   ],
   "source": [
    "cuvinte_rezultate = []\n",
    "for line in result:\n",
    "    cuvinte_rezultate+=(line.split())\n",
    "\n",
    "litere_rezultate = \"\".join(cuvinte_rezultate)\n",
    "\n",
    "cuvinte_truth = [\"Succes\", \"in\", \"rezolvarea\", \"tEMELOR\", \"la\", \"LABORAtoarele\", \"de\", \"Inteligenta\", \"Artificiala!\"]\n",
    "litere_truth = \"SuccesinrezolvareatEMELORlaLABORAtoareledeInteligentaArtificiala!\"\n",
    "\n",
    "nr_elem_min = min(len(cuvinte_rezultate),len(cuvinte_truth))\n",
    "\n",
    "print(\"(Levenshtein) Calitate nivel cuvant:\",Levenshtein.ratio(cuvinte_rezultate,cuvinte_truth))\n",
    "print(\"(Levenshtein) Calitate nivel caracter:\",Levenshtein.ratio(litere_rezultate,litere_truth),\"\\n\")\n",
    "\n",
    "# La hamming trebuie length egal (?)\n",
    "#print(\"(Hamming) Calitate nivel cuvant:\",distance.hamming(cuvinte_rezultate,cuvinte_truth))\n",
    "#print(\"(Hamming) Calitate nivel caracter:\",distance.hamming(list(litere_rezultate),list(litere_truth)),\"\\n\")\n",
    "\n",
    "suma=0\n",
    "for i in range(0,nr_elem_min):\n",
    "    suma += jaro.jaro_winkler_metric(cuvinte_rezultate[i],cuvinte_truth[i])\n",
    "print(\"(JaroWinkler) Calitate nivel cuvant:\",suma/nr_elem_min)\n",
    "print(\"(JaroWinkler) Calitate nivel caracter:\",jaro.jaro_winkler_metric(litere_rezultate,litere_truth),\"\\n\")"
   ]
  },
  {
   "cell_type": "code",
   "execution_count": 8,
   "metadata": {},
   "outputs": [
    {
     "name": "stdout",
     "output_type": "stream",
     "text": [
      "0.3245341614906832\n",
      "0.7444149966114822\n",
      "0.8486115471331944\n",
      "0.6291534263608731\n"
     ]
    }
   ],
   "source": [
    "'''cutii_truth = [\n",
    "[60,293 ,1348,293, 1348,479, 60,479],\n",
    "[118,565 ,1057,565, 1057,741, 118,741],\n",
    "[74,897 ,1021,897, 1021,1045, 74,1045],\n",
    "[95,1132 ,1469,1132, 1469,1379, 95,1379]\n",
    "]'''\n",
    "cutii_truth = [\n",
    "[60.0,293.0 , 1348.0,479.0],\n",
    "[118.0,565.0 , 1057.0,741],\n",
    "[74.0,897.0 , 1021.0,1045.0],\n",
    "[95.0,1132.0 , 1469.0,1379.0]\n",
    "]\n",
    "def iou(box1,box2): #Intersection over Union\n",
    "    interX1=max(box1[0],box2[0])\n",
    "    interY1=max(box1[1],box2[1])\n",
    "    interX2=min(box1[2],box2[2])\n",
    "    interY2=min(box1[3],box2[3])\n",
    "\n",
    "    width_inner = abs(interX2-interX1)\n",
    "    height_inner = abs(interY2-interY1)\n",
    "\n",
    "    Arie_1si2 = width_inner * height_inner\n",
    "    \n",
    "    Arie_1 = (abs(box1[2]-box1[0]))*(abs(box1[3]-box1[1]))\n",
    "    Arie_2 = (abs(box2[2]-box2[0]))*(abs(box2[3]-box2[1]))\n",
    "    \n",
    "    Arie_1sau2 = (Arie_1 + Arie_2) - Arie_1si2\n",
    "\n",
    "    return Arie_1si2/Arie_1sau2\n",
    "\n",
    "cutii_rezultate = []\n",
    "for cutie in cutii:\n",
    "    cutii_rezultate.append([cutie[0],cutie[1],cutie[4],cutie[5]])\n",
    "\n",
    "\n",
    "for i,j in zip(cutii_truth,cutii_rezultate):\n",
    "    print(iou(i,j))"
   ]
  }
 ],
 "metadata": {
  "kernelspec": {
   "display_name": "Python 3",
   "language": "python",
   "name": "python3"
  },
  "language_info": {
   "codemirror_mode": {
    "name": "ipython",
    "version": 3
   },
   "file_extension": ".py",
   "mimetype": "text/x-python",
   "name": "python",
   "nbconvert_exporter": "python",
   "pygments_lexer": "ipython3",
   "version": "3.12.0"
  }
 },
 "nbformat": 4,
 "nbformat_minor": 2
}
